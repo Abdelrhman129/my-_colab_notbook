{
  "nbformat": 4,
  "nbformat_minor": 0,
  "metadata": {
    "colab": {
      "provenance": [],
      "authorship_tag": "ABX9TyMHj4YaA7ZvOpDUgxbta0QL",
      "include_colab_link": true
    },
    "kernelspec": {
      "name": "python3",
      "display_name": "Python 3"
    },
    "language_info": {
      "name": "python"
    }
  },
  "cells": [
    {
      "cell_type": "markdown",
      "metadata": {
        "id": "view-in-github",
        "colab_type": "text"
      },
      "source": [
        "<a href=\"https://colab.research.google.com/github/Abdelrhman129/my-_colab_notbook/blob/main/Untitled12.ipynb\" target=\"_parent\"><img src=\"https://colab.research.google.com/assets/colab-badge.svg\" alt=\"Open In Colab\"/></a>"
      ]
    },
    {
      "cell_type": "code",
      "execution_count": 1,
      "metadata": {
        "colab": {
          "base_uri": "https://localhost:8080/",
          "height": 73
        },
        "id": "olQF9dGmy5M_",
        "outputId": "f62cf842-184c-42ce-ab42-5876e9490cdd"
      },
      "outputs": [
        {
          "output_type": "display_data",
          "data": {
            "text/plain": [
              "<IPython.core.display.HTML object>"
            ],
            "text/html": [
              "\n",
              "     <input type=\"file\" id=\"files-0802594a-9127-4c05-a6f0-94ae92399ec1\" name=\"files[]\" multiple disabled\n",
              "        style=\"border:none\" />\n",
              "     <output id=\"result-0802594a-9127-4c05-a6f0-94ae92399ec1\">\n",
              "      Upload widget is only available when the cell has been executed in the\n",
              "      current browser session. Please rerun this cell to enable.\n",
              "      </output>\n",
              "      <script>// Copyright 2017 Google LLC\n",
              "//\n",
              "// Licensed under the Apache License, Version 2.0 (the \"License\");\n",
              "// you may not use this file except in compliance with the License.\n",
              "// You may obtain a copy of the License at\n",
              "//\n",
              "//      http://www.apache.org/licenses/LICENSE-2.0\n",
              "//\n",
              "// Unless required by applicable law or agreed to in writing, software\n",
              "// distributed under the License is distributed on an \"AS IS\" BASIS,\n",
              "// WITHOUT WARRANTIES OR CONDITIONS OF ANY KIND, either express or implied.\n",
              "// See the License for the specific language governing permissions and\n",
              "// limitations under the License.\n",
              "\n",
              "/**\n",
              " * @fileoverview Helpers for google.colab Python module.\n",
              " */\n",
              "(function(scope) {\n",
              "function span(text, styleAttributes = {}) {\n",
              "  const element = document.createElement('span');\n",
              "  element.textContent = text;\n",
              "  for (const key of Object.keys(styleAttributes)) {\n",
              "    element.style[key] = styleAttributes[key];\n",
              "  }\n",
              "  return element;\n",
              "}\n",
              "\n",
              "// Max number of bytes which will be uploaded at a time.\n",
              "const MAX_PAYLOAD_SIZE = 100 * 1024;\n",
              "\n",
              "function _uploadFiles(inputId, outputId) {\n",
              "  const steps = uploadFilesStep(inputId, outputId);\n",
              "  const outputElement = document.getElementById(outputId);\n",
              "  // Cache steps on the outputElement to make it available for the next call\n",
              "  // to uploadFilesContinue from Python.\n",
              "  outputElement.steps = steps;\n",
              "\n",
              "  return _uploadFilesContinue(outputId);\n",
              "}\n",
              "\n",
              "// This is roughly an async generator (not supported in the browser yet),\n",
              "// where there are multiple asynchronous steps and the Python side is going\n",
              "// to poll for completion of each step.\n",
              "// This uses a Promise to block the python side on completion of each step,\n",
              "// then passes the result of the previous step as the input to the next step.\n",
              "function _uploadFilesContinue(outputId) {\n",
              "  const outputElement = document.getElementById(outputId);\n",
              "  const steps = outputElement.steps;\n",
              "\n",
              "  const next = steps.next(outputElement.lastPromiseValue);\n",
              "  return Promise.resolve(next.value.promise).then((value) => {\n",
              "    // Cache the last promise value to make it available to the next\n",
              "    // step of the generator.\n",
              "    outputElement.lastPromiseValue = value;\n",
              "    return next.value.response;\n",
              "  });\n",
              "}\n",
              "\n",
              "/**\n",
              " * Generator function which is called between each async step of the upload\n",
              " * process.\n",
              " * @param {string} inputId Element ID of the input file picker element.\n",
              " * @param {string} outputId Element ID of the output display.\n",
              " * @return {!Iterable<!Object>} Iterable of next steps.\n",
              " */\n",
              "function* uploadFilesStep(inputId, outputId) {\n",
              "  const inputElement = document.getElementById(inputId);\n",
              "  inputElement.disabled = false;\n",
              "\n",
              "  const outputElement = document.getElementById(outputId);\n",
              "  outputElement.innerHTML = '';\n",
              "\n",
              "  const pickedPromise = new Promise((resolve) => {\n",
              "    inputElement.addEventListener('change', (e) => {\n",
              "      resolve(e.target.files);\n",
              "    });\n",
              "  });\n",
              "\n",
              "  const cancel = document.createElement('button');\n",
              "  inputElement.parentElement.appendChild(cancel);\n",
              "  cancel.textContent = 'Cancel upload';\n",
              "  const cancelPromise = new Promise((resolve) => {\n",
              "    cancel.onclick = () => {\n",
              "      resolve(null);\n",
              "    };\n",
              "  });\n",
              "\n",
              "  // Wait for the user to pick the files.\n",
              "  const files = yield {\n",
              "    promise: Promise.race([pickedPromise, cancelPromise]),\n",
              "    response: {\n",
              "      action: 'starting',\n",
              "    }\n",
              "  };\n",
              "\n",
              "  cancel.remove();\n",
              "\n",
              "  // Disable the input element since further picks are not allowed.\n",
              "  inputElement.disabled = true;\n",
              "\n",
              "  if (!files) {\n",
              "    return {\n",
              "      response: {\n",
              "        action: 'complete',\n",
              "      }\n",
              "    };\n",
              "  }\n",
              "\n",
              "  for (const file of files) {\n",
              "    const li = document.createElement('li');\n",
              "    li.append(span(file.name, {fontWeight: 'bold'}));\n",
              "    li.append(span(\n",
              "        `(${file.type || 'n/a'}) - ${file.size} bytes, ` +\n",
              "        `last modified: ${\n",
              "            file.lastModifiedDate ? file.lastModifiedDate.toLocaleDateString() :\n",
              "                                    'n/a'} - `));\n",
              "    const percent = span('0% done');\n",
              "    li.appendChild(percent);\n",
              "\n",
              "    outputElement.appendChild(li);\n",
              "\n",
              "    const fileDataPromise = new Promise((resolve) => {\n",
              "      const reader = new FileReader();\n",
              "      reader.onload = (e) => {\n",
              "        resolve(e.target.result);\n",
              "      };\n",
              "      reader.readAsArrayBuffer(file);\n",
              "    });\n",
              "    // Wait for the data to be ready.\n",
              "    let fileData = yield {\n",
              "      promise: fileDataPromise,\n",
              "      response: {\n",
              "        action: 'continue',\n",
              "      }\n",
              "    };\n",
              "\n",
              "    // Use a chunked sending to avoid message size limits. See b/62115660.\n",
              "    let position = 0;\n",
              "    do {\n",
              "      const length = Math.min(fileData.byteLength - position, MAX_PAYLOAD_SIZE);\n",
              "      const chunk = new Uint8Array(fileData, position, length);\n",
              "      position += length;\n",
              "\n",
              "      const base64 = btoa(String.fromCharCode.apply(null, chunk));\n",
              "      yield {\n",
              "        response: {\n",
              "          action: 'append',\n",
              "          file: file.name,\n",
              "          data: base64,\n",
              "        },\n",
              "      };\n",
              "\n",
              "      let percentDone = fileData.byteLength === 0 ?\n",
              "          100 :\n",
              "          Math.round((position / fileData.byteLength) * 100);\n",
              "      percent.textContent = `${percentDone}% done`;\n",
              "\n",
              "    } while (position < fileData.byteLength);\n",
              "  }\n",
              "\n",
              "  // All done.\n",
              "  yield {\n",
              "    response: {\n",
              "      action: 'complete',\n",
              "    }\n",
              "  };\n",
              "}\n",
              "\n",
              "scope.google = scope.google || {};\n",
              "scope.google.colab = scope.google.colab || {};\n",
              "scope.google.colab._files = {\n",
              "  _uploadFiles,\n",
              "  _uploadFilesContinue,\n",
              "};\n",
              "})(self);\n",
              "</script> "
            ]
          },
          "metadata": {}
        },
        {
          "output_type": "stream",
          "name": "stdout",
          "text": [
            "Saving archive (1).zip to archive (1).zip\n"
          ]
        }
      ],
      "source": [
        "from google.colab import files\n",
        "uploaded = files.upload()  # هنا هتختار ملف ZIP اللي نزلته\n"
      ]
    },
    {
      "cell_type": "code",
      "source": [
        "import zipfile\n",
        "import os\n",
        "\n",
        "zip_path = \"archive (1) (1).zip\"  # اسم الملف اللي رفعته\n",
        "\n",
        "with zipfile.ZipFile(zip_path, 'r') as zip_ref:\n",
        "    zip_ref.extractall(\"skin_dataset\")  # هنفك الضغط في فولدر اسمه skin_dataset\n",
        "\n",
        "# عرض الفولدرات بعد فك الضغط\n",
        "os.listdir(\"skin_dataset\")\n"
      ],
      "metadata": {
        "colab": {
          "base_uri": "https://localhost:8080/"
        },
        "id": "jvMwLJPizkdl",
        "outputId": "1f10f31f-71ba-4444-d2de-ae2d2d10d359"
      },
      "execution_count": 8,
      "outputs": [
        {
          "output_type": "execute_result",
          "data": {
            "text/plain": [
              "['Oily-Dry-Skin-Types']"
            ]
          },
          "metadata": {},
          "execution_count": 8
        }
      ]
    },
    {
      "cell_type": "code",
      "source": [
        "import os\n"
      ],
      "metadata": {
        "id": "LQgabFwu1Cp7"
      },
      "execution_count": 9,
      "outputs": []
    },
    {
      "cell_type": "code",
      "source": [
        "dataset_path = \"/content/skin_dataset\"\n"
      ],
      "metadata": {
        "id": "VGPlJhT92qOq"
      },
      "execution_count": 11,
      "outputs": []
    },
    {
      "cell_type": "code",
      "source": [
        "import os\n",
        "\n",
        "# عرض الفئات اللي جوه الفولدر\n",
        "categories = os.listdir(dataset_path)\n",
        "print(\"الفئات الموجودة:\", categories)\n",
        "\n",
        "# حساب عدد الصور في كل فئة\n",
        "for category in categories:\n",
        "    category_path = os.path.join(dataset_path, category)\n",
        "    num_images = len(os.listdir(category_path))\n",
        "    print(f\"{category}: {num_images} صورة\")\n"
      ],
      "metadata": {
        "colab": {
          "base_uri": "https://localhost:8080/"
        },
        "id": "N8w8-P5o29jN",
        "outputId": "18ecb3e6-cda0-4ee5-c3a3-47cb64b419db"
      },
      "execution_count": 12,
      "outputs": [
        {
          "output_type": "stream",
          "name": "stdout",
          "text": [
            "الفئات الموجودة: ['Oily-Dry-Skin-Types']\n",
            "Oily-Dry-Skin-Types: 4 صورة\n"
          ]
        }
      ]
    },
    {
      "cell_type": "code",
      "source": [
        "import os\n",
        "import shutil\n",
        "import random\n",
        "\n",
        "# المسارات\n",
        "dataset_dir = '/content/skin_dataset/Oily-Dry-Skin-Types'\n",
        "train_dir = '/content/data/train'\n",
        "test_dir = '/content/data/test'\n",
        "\n",
        "# إنشاء مجلدات train و test\n",
        "os.makedirs(train_dir, exist_ok=True)\n",
        "os.makedirs(test_dir, exist_ok=True)\n",
        "\n",
        "# قراءة الفئات\n",
        "categories = os.listdir(dataset_dir)\n",
        "\n",
        "for category in categories:\n",
        "    category_path = os.path.join(dataset_dir, category)\n",
        "    if not os.path.isdir(category_path):\n",
        "        continue  # تخطي أي ملف مش مجلد\n",
        "\n",
        "    images = [f for f in os.listdir(category_path) if f.lower().endswith(('.jpg', '.png', '.jpeg'))]\n",
        "\n",
        "    random.shuffle(images)\n",
        "\n",
        "    split_index = int(len(images) * 0.8)\n",
        "    train_images = images[:split_index]\n",
        "    test_images = images[split_index:]\n",
        "\n",
        "    os.makedirs(os.path.join(train_dir, category), exist_ok=True)\n",
        "    os.makedirs(os.path.join(test_dir, category), exist_ok=True)\n",
        "\n",
        "    # نسخ الصور للتدريب\n",
        "    for img in train_images:\n",
        "        shutil.copy(os.path.join(category_path, img), os.path.join(train_dir, category, img))\n",
        "\n",
        "    # نسخ الصور للاختبار\n",
        "    for img in test_images:\n",
        "        shutil.copy(os.path.join(category_path, img), os.path.join(test_dir, category, img))\n",
        "\n",
        "print(\"تم تقسيم الصور إلى تدريب واختبار بنجاح ✅\")\n"
      ],
      "metadata": {
        "colab": {
          "base_uri": "https://localhost:8080/"
        },
        "id": "R7UYSFh74G29",
        "outputId": "e91d148c-a113-456d-e7b6-fd79bfe3f3a0"
      },
      "execution_count": 14,
      "outputs": [
        {
          "output_type": "stream",
          "name": "stdout",
          "text": [
            "تم تقسيم الصور إلى تدريب واختبار بنجاح ✅\n"
          ]
        }
      ]
    },
    {
      "cell_type": "code",
      "source": [
        "import os\n",
        "from PIL import Image\n",
        "\n",
        "def check_images(directory):\n",
        "    bad_images = []\n",
        "    for root, dirs, files in os.walk(directory):\n",
        "        for file in files:\n",
        "            if file.lower().endswith(('.jpg', '.jpeg', '.png')):\n",
        "                path = os.path.join(root, file)\n",
        "                try:\n",
        "                    img = Image.open(path)\n",
        "                    img.verify()  # يتأكد إن الصورة سليمة\n",
        "                except (IOError, SyntaxError) as e:\n",
        "                    print(f\"❌ صورة تالفة أو غير قابلة للقراءة: {path}\")\n",
        "                    bad_images.append(path)\n",
        "    return bad_images\n",
        "\n",
        "# مثال استخدام\n",
        "folder_path = \"/content/drive/MyDrive/اسم_المجلد\"\n",
        "bad_files = check_images(folder_path)\n",
        "\n",
        "if bad_files:\n",
        "    print(\"\\n📌 الصور التالفة:\")\n",
        "    for f in bad_files:\n",
        "        os.remove(f)  # حذف الصور التالفة\n",
        "        print(f\"🗑️ تم الحذف: {f}\")\n",
        "else:\n",
        "    print(\"✅ كل الصور سليمة.\")\n"
      ],
      "metadata": {
        "colab": {
          "base_uri": "https://localhost:8080/"
        },
        "id": "l3GPFAPt3WGl",
        "outputId": "c11f0ff6-1c93-4f10-f5d6-d61e0ddfeace"
      },
      "execution_count": 15,
      "outputs": [
        {
          "output_type": "stream",
          "name": "stdout",
          "text": [
            "✅ كل الصور سليمة.\n"
          ]
        }
      ]
    },
    {
      "cell_type": "code",
      "source": [
        "import os\n",
        "import shutil\n",
        "import tensorflow as tf\n",
        "from tensorflow.keras.preprocessing.image import ImageDataGenerator\n",
        "import matplotlib.pyplot as plt\n",
        "import numpy as np\n"
      ],
      "metadata": {
        "id": "mRisyn9f4hYe"
      },
      "execution_count": 24,
      "outputs": []
    },
    {
      "cell_type": "code",
      "source": [
        "base_dir = '/content/skin_dataset'\n",
        "train_dir = os.path.join(base_dir, 'train')\n",
        "test_dir = os.path.join(base_dir, 'test')\n"
      ],
      "metadata": {
        "id": "4UJwquwR43O9"
      },
      "execution_count": 25,
      "outputs": []
    },
    {
      "cell_type": "code",
      "source": [
        "train_dir = '/content/train'\n",
        "valid_dir = '/content/valid'\n",
        "test_dir = '/content/test'\n"
      ],
      "metadata": {
        "id": "sgP6LURV5CD9"
      },
      "execution_count": 27,
      "outputs": []
    },
    {
      "cell_type": "code",
      "source": [
        "!ls /content\n",
        "from tensorflow.keras.preprocessing.image import ImageDataGenerator\n",
        "\n",
        "train_dir = '/content/train'\n",
        "test_dir = '/content/test'\n",
        "\n",
        "# هنا هندخل نسبة 20% من train كـ validation\n",
        "datagen = ImageDataGenerator(rescale=1./255, validation_split=0.2)\n",
        "\n",
        "train_generator = datagen.flow_from_directory(\n",
        "    train_dir,\n",
        "    target_size=(224, 224),\n",
        "    batch_size=32,\n",
        "    class_mode='categorical',\n",
        "    subset='training'\n",
        ")\n",
        "\n",
        "valid_generator = datagen.flow_from_directory(\n",
        "    train_dir,\n",
        "    target_size=(224, 224),\n",
        "    batch_size=32,\n",
        "    class_mode='categorical',\n",
        "    subset='validation'\n",
        ")\n",
        "\n",
        "test_datagen = ImageDataGenerator(rescale=1./255)\n",
        "test_generator = test_datagen.flow_from_directory(\n",
        "    test_dir,\n",
        "    target_size=(224, 224),\n",
        "    batch_size=32,\n",
        "    class_mode='categorical'\n",
        ")\n"
      ],
      "metadata": {
        "colab": {
          "base_uri": "https://localhost:8080/"
        },
        "id": "Ff2gA1ZF93CN",
        "outputId": "6f5c6650-6dd9-45c7-f2ca-63bdbca5b7f7"
      },
      "execution_count": 29,
      "outputs": [
        {
          "output_type": "stream",
          "name": "stdout",
          "text": [
            "'archive (1) (1).zip'   data\t      skin_dataset   train\n",
            "'archive (1).zip'       sample_data   test\n",
            "Found 0 images belonging to 1 classes.\n",
            "Found 0 images belonging to 1 classes.\n",
            "Found 0 images belonging to 1 classes.\n"
          ]
        }
      ]
    },
    {
      "cell_type": "code",
      "source": [
        "!ls train\n",
        "!ls test\n"
      ],
      "metadata": {
        "colab": {
          "base_uri": "https://localhost:8080/"
        },
        "id": "tJ4VCW2X-ZFJ",
        "outputId": "29698990-1b50-4372-f6d1-c874baacbe9a"
      },
      "execution_count": 31,
      "outputs": [
        {
          "output_type": "stream",
          "name": "stdout",
          "text": [
            "Oily-Dry-Skin-Types\n",
            "Oily-Dry-Skin-Types\n"
          ]
        }
      ]
    },
    {
      "cell_type": "code",
      "source": [
        "!ls train\n"
      ],
      "metadata": {
        "colab": {
          "base_uri": "https://localhost:8080/"
        },
        "id": "PfeFMsnQ_VTs",
        "outputId": "09c5dce5-b8f6-45c7-952d-935be69efd49"
      },
      "execution_count": 32,
      "outputs": [
        {
          "output_type": "stream",
          "name": "stdout",
          "text": [
            "Oily-Dry-Skin-Types\n"
          ]
        }
      ]
    },
    {
      "cell_type": "code",
      "source": [
        "import os\n",
        "\n",
        "# هنبحث تحت /content عن أي مجلد اسمه يحتوي كلمات 'only' و 'dry' و 'skin'\n",
        "found = None\n",
        "for root, dirs, files in os.walk('/content'):\n",
        "    for d in dirs:\n",
        "        name = d.lower()\n",
        "        if 'only' in name and 'dry' in name and 'skin' in name:\n",
        "            found = os.path.join(root, d)\n",
        "            break\n",
        "    if found:\n",
        "        break\n",
        "\n",
        "if not found:\n",
        "    print(\"معلش، ما لقيتش المجلد اللي اسمه يحتوي 'only' و' dry' و' skin' تحت /content.\")\n",
        "else:\n",
        "    print(\"Found base folder:\\n\", found)\n",
        "    print(\"\\nمحتويات المجلد الأساسي:\")\n",
        "    print(os.listdir(found))\n",
        "    # اطبع محتوى train/test/valid لو موجودين\n",
        "    for sub in ('train','test','valid'):\n",
        "        p = os.path.join(found, sub)\n",
        "        if os.path.exists(p):\n",
        "            print(f\"\\n{sub} موجود — بداخله الفئات/المجلدات الفرعية:\")\n",
        "            print(os.listdir(p))\n",
        "        else:\n",
        "            print(f\"\\n{sub} غير موجود في {found}\")\n"
      ],
      "metadata": {
        "colab": {
          "base_uri": "https://localhost:8080/"
        },
        "id": "66kXoW20_iIX",
        "outputId": "f8af0edb-d745-4e07-dc48-5acfa6e15edf"
      },
      "execution_count": 34,
      "outputs": [
        {
          "output_type": "stream",
          "name": "stdout",
          "text": [
            "معلش، ما لقيتش المجلد اللي اسمه يحتوي 'only' و' dry' و' skin' تحت /content.\n"
          ]
        }
      ]
    },
    {
      "cell_type": "code",
      "source": [
        "!ls /content\n"
      ],
      "metadata": {
        "colab": {
          "base_uri": "https://localhost:8080/"
        },
        "id": "erFz0uAtCnOe",
        "outputId": "70730bb0-fa8f-4fc4-bc05-313b7bf375a5"
      },
      "execution_count": 35,
      "outputs": [
        {
          "output_type": "stream",
          "name": "stdout",
          "text": [
            "'archive (1) (1).zip'   data\t      skin_dataset   train\n",
            "'archive (1).zip'       sample_data   test\n"
          ]
        }
      ]
    },
    {
      "cell_type": "code",
      "source": [
        "!ls /content/skin_dataset\n"
      ],
      "metadata": {
        "colab": {
          "base_uri": "https://localhost:8080/"
        },
        "id": "Uy0OF9b5CuuU",
        "outputId": "782dfec9-ef24-4c12-cdf1-f635da667fbc"
      },
      "execution_count": 36,
      "outputs": [
        {
          "output_type": "stream",
          "name": "stdout",
          "text": [
            "Oily-Dry-Skin-Types\n"
          ]
        }
      ]
    },
    {
      "cell_type": "code",
      "source": [
        "!ls /content/skin_dataset/Oily-Dry-Skin-Types\n"
      ],
      "metadata": {
        "colab": {
          "base_uri": "https://localhost:8080/"
        },
        "id": "GsmqxhAxCvB8",
        "outputId": "cf3ce990-94dd-4c25-a8b2-0e9e8975058f"
      },
      "execution_count": 38,
      "outputs": [
        {
          "output_type": "stream",
          "name": "stdout",
          "text": [
            "README.dataset.txt  test  train  valid\n"
          ]
        }
      ]
    },
    {
      "cell_type": "code",
      "source": [
        "!ls /content/skin_dataset/Oily-Dry-Skin-Types/test\n",
        "\n",
        "\n"
      ],
      "metadata": {
        "colab": {
          "base_uri": "https://localhost:8080/"
        },
        "id": "HT0JqwFXC4c3",
        "outputId": "933b771a-0dc3-4d43-f81f-bf3e9e0a9c74"
      },
      "execution_count": 42,
      "outputs": [
        {
          "output_type": "stream",
          "name": "stdout",
          "text": [
            "dry  normal  oily\n"
          ]
        }
      ]
    },
    {
      "cell_type": "code",
      "source": [
        "!ls /content/skin_dataset/Oily-Dry-Skin-Types/test/Dry\n"
      ],
      "metadata": {
        "colab": {
          "base_uri": "https://localhost:8080/"
        },
        "id": "6CFOwpKCDXaX",
        "outputId": "8078fd9d-6be6-4c9b-da03-b0dfa990b172"
      },
      "execution_count": 44,
      "outputs": [
        {
          "output_type": "stream",
          "name": "stdout",
          "text": [
            "ls: cannot access '/content/skin_dataset/Oily-Dry-Skin-Types/test/Dry': No such file or directory\n"
          ]
        }
      ]
    },
    {
      "cell_type": "code",
      "source": [
        "!ls /content/skin_dataset/Oily-Dry-Skin-Types/test\n"
      ],
      "metadata": {
        "colab": {
          "base_uri": "https://localhost:8080/"
        },
        "id": "hGtdJjHcEOIt",
        "outputId": "9224ef97-11ad-48a2-8a38-dc868c32d4fa"
      },
      "execution_count": 45,
      "outputs": [
        {
          "output_type": "stream",
          "name": "stdout",
          "text": [
            "dry  normal  oily\n"
          ]
        }
      ]
    },
    {
      "cell_type": "code",
      "source": [
        "import os\n",
        "\n",
        "# المسار الرئيسي للبيانات\n",
        "base_path = \"/content/skin_dataset/Oily-Dry-Skin-Types/test\"\n",
        "\n",
        "# نجيب أسماء الفولدرات الموجودة فعليًا\n",
        "folders = os.listdir(base_path)\n",
        "\n",
        "# نحولها كلها لحروف صغيرة علشان المقارنة\n",
        "folders_lower = {f.lower(): f for f in folders}\n",
        "\n",
        "# لو عايز فولدر dry مثلًا\n",
        "target = \"dry\"  # اللي إحنا بندوّر عليه\n",
        "folder_name = folders_lower.get(target.lower())\n",
        "\n",
        "if folder_name:\n",
        "    folder_path = os.path.join(base_path, folder_name)\n",
        "    print(f\"المسار الفعلي: {folder_path}\")\n",
        "    print(os.listdir(folder_path))\n",
        "else:\n",
        "    print(f\"مفيش فولدر اسمه {target} في {base_path}\")\n"
      ],
      "metadata": {
        "colab": {
          "base_uri": "https://localhost:8080/"
        },
        "id": "chdeFusGElPs",
        "outputId": "74616c9d-a3ba-4b81-d6d5-20343ac7431a"
      },
      "execution_count": 46,
      "outputs": [
        {
          "output_type": "stream",
          "name": "stdout",
          "text": [
            "المسار الفعلي: /content/skin_dataset/Oily-Dry-Skin-Types/test/dry\n",
            "['dry_3cff4d4b05b7b88def12_jpg.rf.61f7ed0c6569bde348734178e19a55f7.jpg', 'dry_51f17f3bf8f2c5de29b2_jpg.rf.bb32e8493cb6e55aa06069f4d56404dc.jpg', 'dry_10583924a54a7cbcf5d0_jpg.rf.7c4cb0ac9522f3a0faaf230527e1abe9.jpg', 'dry_33489ccedfbd77039b4d_jpg.rf.bff22d94ad08b5402f1feb8e304a7368.jpg', 'dry_8ff73b38fbc8285d13ed_jpg.rf.c03bb4deabb5a5edd88521884f71f09c.jpg', 'dry_a501c2011f97c217e287_jpg.rf.cb3a3d565afb66454c7e111b4d5bcee8.jpg', 'dry_5e9161b29dba973465fa_jpg.rf.8f1c3952c673ea8f893a23f9ae7e3b0e.jpg', 'dry_c06f8208ea26055c0a68_jpg.rf.25eeb78528f70016c046560c8ceaa343.jpg', 'dry_8e441bc00ba44f59160c_jpg.rf.ee8ac22f2b7d2f34aeedd4557c1eb782.jpg', 'dry_4b06e68067862ee761ab_jpg.rf.52e7f8c3af0d6b1dd3e3f224b735fc18.jpg', 'dry_de93c267992165918dfc_jpg.rf.f5c3559389d768133b962d77d640b894.jpg', 'dry_da04bc0d1bb71875dec4_jpg.rf.56e44232f5315824865359c81af5cb48.jpg', 'dry_4e342ada282e73d14463_jpg.rf.3e22185034c87e49e38bf16b7c05d70f.jpg', 'dry_abc20b33688648c514df_jpg.rf.fab87bd62bc3ac5696030ec858ddfd8e.jpg', 'dry_b50f5cd31a0acaf8d7cd_jpg.rf.c2f0eb2bc17c15b38e613cb1b7aa24ce.jpg', 'dry_fb0e802b9c4eeb0d5218_jpg.rf.4c68ff6581084a30175caedcdea6803f.jpg', 'dry_2e2591d4cf31b8e024a6_jpg.rf.e8a8db4db95cd0a0df0275d75fcd87a0.jpg', 'dry_e4710be183f88b4853f4_jpg.rf.495c668e6eab59ee1949e6c92845cdf7.jpg', 'dry_f4c75ef538f8f6738965_jpg.rf.97034b4ecac474a5dc21595eec50e10f.jpg', 'dry_6c7bae20776a48640207_jpg.rf.fc642cb5acfbae44bbf602b1da983bda.jpg', 'dry_a89a1cf076835490d4ba_jpg.rf.21f479e58314a0d8e9ded0ba38c72ef7.jpg', 'dry_1d3b1b41c06745c89fb6_jpg.rf.9fe7b2181a36c2b6f67744be1af2fdd7.jpg', 'dry_5b99f597f86f84a70434_jpg.rf.37502a712e3385d9312d33f392300043.jpg', 'dry_f23ccf754f4d43c04dc7_jpg.rf.f31ba8270703602a54b10878b7dcb3cf.jpg', 'dry_797659773eb9ee57ec1c_jpg.rf.f3796a0e216897914ee2b7861eba321c.jpg', 'dry_7d1580f09a0f22cbb869_jpg.rf.e23e6348aba524a6564650d07f1210b5.jpg', 'dry_99eba9d8e7b8859bdcfd_jpg.rf.0d0312d455031137f9cbd8aa4ca609d9.jpg', 'dry_304ff9ea442145481f67_jpg.rf.26e1ca5ca2eb32f5c89509c670ca967a.jpg', 'dry_c9173f4ccc3d012f1a14_jpg.rf.1f8daa587d2973ac4af6e1fd092d7b68.jpg', 'dry_952b53218ddfa8ae3520_jpg.rf.1650d1b8277e509ecb305f11f6e22398.jpg', 'dry_93553a3d9e1ef7ee0f56_jpg.rf.877e3e953cc77b54ee75515f664e74aa.jpg', 'dry_c1ed630dc88ca0057be6_jpg.rf.f5b7fd3209e8bbb6405aa94e4f46b3d6.jpg', 'dry_df365550379101278281_jpg.rf.c4a7ef6a5547d7147597918b4d5ba0a1.jpg', 'dry_e61ee7ec4041ec6dd9fc_jpg.rf.3a363968c7a3e439d61978cc054a66e6.jpg', 'dry_80c04739a91c6a25454f_jpg.rf.2dc21f010ef6f38280168eb244928cf3.jpg']\n"
          ]
        }
      ]
    },
    {
      "cell_type": "code",
      "source": [
        "train_dir = '/content/skin_dataset/Oily-Dry-Skin-Types/train'\n",
        "valid_dir = '/content/skin_dataset/Oily-Dry-Skin-Types/valid'\n",
        "test_dir  = '/content/skin_dataset/Oily-Dry-Skin-Types/test'\n",
        "\n",
        "train_generator = train_datagen.flow_from_directory(\n",
        "    train_dir,\n",
        "    target_size=(224, 224),\n",
        "    batch_size=32,\n",
        "    class_mode='categorical'\n",
        ")\n",
        "\n",
        "valid_generator = valid_datagen.flow_from_directory(\n",
        "    valid_dir,\n",
        "    target_size=(224, 224),\n",
        "    batch_size=32,\n",
        "    class_mode='categorical'\n",
        ")\n",
        "\n",
        "test_generator = test_datagen.flow_from_directory(\n",
        "    test_dir,\n",
        "    target_size=(224, 224),\n",
        "    batch_size=32,\n",
        "    class_mode='categorical'\n",
        ")\n"
      ],
      "metadata": {
        "colab": {
          "base_uri": "https://localhost:8080/"
        },
        "id": "6y478hh8EvDl",
        "outputId": "232906e0-5051-4e01-a763-70f088997a95"
      },
      "execution_count": 47,
      "outputs": [
        {
          "output_type": "stream",
          "name": "stdout",
          "text": [
            "Found 2756 images belonging to 3 classes.\n",
            "Found 262 images belonging to 3 classes.\n",
            "Found 134 images belonging to 3 classes.\n"
          ]
        }
      ]
    },
    {
      "cell_type": "code",
      "source": [
        "from tensorflow.keras.preprocessing.image import ImageDataGenerator\n",
        "\n",
        "train_datagen = ImageDataGenerator(\n",
        "    rescale=1./255,\n",
        "    rotation_range=20,\n",
        "    width_shift_range=0.2,\n",
        "    height_shift_range=0.2,\n",
        "    shear_range=0.2,\n",
        "    zoom_range=0.2,\n",
        "    horizontal_flip=True\n",
        ")\n",
        "\n",
        "test_datagen = ImageDataGenerator(rescale=1./255)\n",
        "\n",
        "train_generator = train_datagen.flow_from_directory(\n",
        "    '/content/skin_dataset/Oily-Dry-Skin-Types/train',\n",
        "    target_size=(128, 128),\n",
        "    batch_size=32,\n",
        "    class_mode='categorical'\n",
        ")\n",
        "\n",
        "validation_generator = test_datagen.flow_from_directory(\n",
        "    '/content/skin_dataset/Oily-Dry-Skin-Types/valid',\n",
        "    target_size=(128, 128),\n",
        "    batch_size=32,\n",
        "    class_mode='categorical'\n",
        ")\n",
        "\n",
        "test_generator = test_datagen.flow_from_directory(\n",
        "    '/content/skin_dataset/Oily-Dry-Skin-Types/test',\n",
        "    target_size=(128, 128),\n",
        "    batch_size=32,\n",
        "    class_mode='categorical'\n",
        ")\n"
      ],
      "metadata": {
        "colab": {
          "base_uri": "https://localhost:8080/"
        },
        "id": "G_QkfZhKIo4R",
        "outputId": "ddc3cfb8-8714-4686-e883-769830de1954"
      },
      "execution_count": 48,
      "outputs": [
        {
          "output_type": "stream",
          "name": "stdout",
          "text": [
            "Found 2756 images belonging to 3 classes.\n",
            "Found 262 images belonging to 3 classes.\n",
            "Found 134 images belonging to 3 classes.\n"
          ]
        }
      ]
    },
    {
      "cell_type": "code",
      "source": [
        "from tensorflow.keras.models import Sequential\n",
        "from tensorflow.keras.layers import Conv2D, MaxPooling2D, Flatten, Dense, Dropout\n",
        "\n",
        "model = Sequential([\n",
        "    Conv2D(32, (3, 3), activation='relu', input_shape=(128, 128, 3)),\n",
        "    MaxPooling2D(2, 2),\n",
        "\n",
        "    Conv2D(64, (3, 3), activation='relu'),\n",
        "    MaxPooling2D(2, 2),\n",
        "\n",
        "    Flatten(),\n",
        "    Dense(128, activation='relu'),\n",
        "    Dropout(0.5),\n",
        "    Dense(3, activation='softmax')  # 3 classes\n",
        "])\n",
        "\n",
        "model.compile(optimizer='adam',\n",
        "              loss='categorical_crossentropy',\n",
        "              metrics=['accuracy'])\n"
      ],
      "metadata": {
        "colab": {
          "base_uri": "https://localhost:8080/"
        },
        "id": "DloKqS22IwlW",
        "outputId": "d5d2e3aa-43d4-4613-b237-c8d2434fc2ec"
      },
      "execution_count": 49,
      "outputs": [
        {
          "output_type": "stream",
          "name": "stderr",
          "text": [
            "/usr/local/lib/python3.11/dist-packages/keras/src/layers/convolutional/base_conv.py:113: UserWarning: Do not pass an `input_shape`/`input_dim` argument to a layer. When using Sequential models, prefer using an `Input(shape)` object as the first layer in the model instead.\n",
            "  super().__init__(activity_regularizer=activity_regularizer, **kwargs)\n"
          ]
        }
      ]
    },
    {
      "cell_type": "code",
      "source": [
        "history = model.fit(\n",
        "    train_generator,\n",
        "    validation_data=validation_generator,\n",
        "    epochs=10\n",
        ")\n"
      ],
      "metadata": {
        "colab": {
          "base_uri": "https://localhost:8080/"
        },
        "id": "N6gKMFv6JXSG",
        "outputId": "299e0663-db20-4c93-94b1-bea25795ab11"
      },
      "execution_count": 50,
      "outputs": [
        {
          "output_type": "stream",
          "name": "stderr",
          "text": [
            "/usr/local/lib/python3.11/dist-packages/keras/src/trainers/data_adapters/py_dataset_adapter.py:121: UserWarning: Your `PyDataset` class should call `super().__init__(**kwargs)` in its constructor. `**kwargs` can include `workers`, `use_multiprocessing`, `max_queue_size`. Do not pass these arguments to `fit()`, as they will be ignored.\n",
            "  self._warn_if_super_not_called()\n"
          ]
        },
        {
          "output_type": "stream",
          "name": "stdout",
          "text": [
            "Epoch 1/10\n",
            "\u001b[1m87/87\u001b[0m \u001b[32m━━━━━━━━━━━━━━━━━━━━\u001b[0m\u001b[37m\u001b[0m \u001b[1m82s\u001b[0m 916ms/step - accuracy: 0.3665 - loss: 1.6581 - val_accuracy: 0.4466 - val_loss: 1.0850\n",
            "Epoch 2/10\n",
            "\u001b[1m87/87\u001b[0m \u001b[32m━━━━━━━━━━━━━━━━━━━━\u001b[0m\u001b[37m\u001b[0m \u001b[1m78s\u001b[0m 891ms/step - accuracy: 0.4077 - loss: 1.0780 - val_accuracy: 0.4313 - val_loss: 1.0881\n",
            "Epoch 3/10\n",
            "\u001b[1m87/87\u001b[0m \u001b[32m━━━━━━━━━━━━━━━━━━━━\u001b[0m\u001b[37m\u001b[0m \u001b[1m84s\u001b[0m 919ms/step - accuracy: 0.3988 - loss: 1.0754 - val_accuracy: 0.4198 - val_loss: 1.0885\n",
            "Epoch 4/10\n",
            "\u001b[1m87/87\u001b[0m \u001b[32m━━━━━━━━━━━━━━━━━━━━\u001b[0m\u001b[37m\u001b[0m \u001b[1m78s\u001b[0m 897ms/step - accuracy: 0.4040 - loss: 1.0717 - val_accuracy: 0.4046 - val_loss: 1.0875\n",
            "Epoch 5/10\n",
            "\u001b[1m87/87\u001b[0m \u001b[32m━━━━━━━━━━━━━━━━━━━━\u001b[0m\u001b[37m\u001b[0m \u001b[1m76s\u001b[0m 868ms/step - accuracy: 0.3961 - loss: 1.0783 - val_accuracy: 0.4198 - val_loss: 1.0880\n",
            "Epoch 6/10\n",
            "\u001b[1m87/87\u001b[0m \u001b[32m━━━━━━━━━━━━━━━━━━━━\u001b[0m\u001b[37m\u001b[0m \u001b[1m83s\u001b[0m 883ms/step - accuracy: 0.4015 - loss: 1.0718 - val_accuracy: 0.3969 - val_loss: 1.0902\n",
            "Epoch 7/10\n",
            "\u001b[1m87/87\u001b[0m \u001b[32m━━━━━━━━━━━━━━━━━━━━\u001b[0m\u001b[37m\u001b[0m \u001b[1m83s\u001b[0m 897ms/step - accuracy: 0.3895 - loss: 1.0713 - val_accuracy: 0.3931 - val_loss: 1.0917\n",
            "Epoch 8/10\n",
            "\u001b[1m87/87\u001b[0m \u001b[32m━━━━━━━━━━━━━━━━━━━━\u001b[0m\u001b[37m\u001b[0m \u001b[1m77s\u001b[0m 885ms/step - accuracy: 0.3900 - loss: 1.0766 - val_accuracy: 0.4160 - val_loss: 1.0864\n",
            "Epoch 9/10\n",
            "\u001b[1m87/87\u001b[0m \u001b[32m━━━━━━━━━━━━━━━━━━━━\u001b[0m\u001b[37m\u001b[0m \u001b[1m76s\u001b[0m 870ms/step - accuracy: 0.3996 - loss: 1.0651 - val_accuracy: 0.4046 - val_loss: 1.0891\n",
            "Epoch 10/10\n",
            "\u001b[1m87/87\u001b[0m \u001b[32m━━━━━━━━━━━━━━━━━━━━\u001b[0m\u001b[37m\u001b[0m \u001b[1m76s\u001b[0m 882ms/step - accuracy: 0.4328 - loss: 1.0668 - val_accuracy: 0.4084 - val_loss: 1.0887\n"
          ]
        }
      ]
    },
    {
      "cell_type": "code",
      "source": [
        "# حفظ الموديل\n",
        "model.save(\"skin_type_model.h5\")\n"
      ],
      "metadata": {
        "colab": {
          "base_uri": "https://localhost:8080/"
        },
        "id": "aPbLVeDDSOdD",
        "outputId": "4d93fc95-75fa-4b1e-f196-8195cbffcd10"
      },
      "execution_count": 51,
      "outputs": [
        {
          "output_type": "stream",
          "name": "stderr",
          "text": [
            "WARNING:absl:You are saving your model as an HDF5 file via `model.save()` or `keras.saving.save_model(model)`. This file format is considered legacy. We recommend using instead the native Keras format, e.g. `model.save('my_model.keras')` or `keras.saving.save_model(model, 'my_model.keras')`. \n"
          ]
        }
      ]
    },
    {
      "cell_type": "code",
      "source": [],
      "metadata": {
        "id": "D0hg-zS9SRDa"
      },
      "execution_count": null,
      "outputs": []
    }
  ]
}